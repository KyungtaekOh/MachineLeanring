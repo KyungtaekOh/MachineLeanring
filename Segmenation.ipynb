{
  "nbformat": 4,
  "nbformat_minor": 0,
  "metadata": {
    "colab": {
      "name": "Segmenation.ipynb",
      "private_outputs": true,
      "provenance": [],
      "collapsed_sections": []
    },
    "kernelspec": {
      "name": "python3",
      "display_name": "Python 3"
    }
  },
  "cells": [
    {
      "cell_type": "code",
      "metadata": {
        "id": "mvq40Ahc-EU3"
      },
      "source": [
        "!curl -O https://www.robots.ox.ac.uk/~vgg/data/pets/data/images.tar.gz\r\n",
        "!curl -O https://www.robots.ox.ac.uk/~vgg/data/pets/data/annotations.tar.gz\r\n",
        "!tar -xf images.tar.gz\r\n",
        "!tar -xf annotations.tar.gz"
      ],
      "execution_count": null,
      "outputs": []
    },
    {
      "cell_type": "code",
      "metadata": {
        "id": "tHm-XE6P-bnj"
      },
      "source": [
        "import os\r\n",
        "\r\n",
        "input_dir = \"/content/images/\"\r\n",
        "target_dir = \"/content/annotations/trimaps/\"\r\n",
        "img_size = (160,160)\r\n",
        "num_classes = 3\r\n",
        "batch_size = 32\r\n",
        "\r\n",
        "input_img_path = sorted(\r\n",
        "    [\r\n",
        "     os.path.join(input_dir, fname)\r\n",
        "     for fname in os.listdir(input_dir)\r\n",
        "     if fname.endswith(\".jpg\")\r\n",
        "    ]\r\n",
        ")\r\n",
        "target_img_path = sorted(\r\n",
        "    [\r\n",
        "     os.path.join(target_dir, fname)\r\n",
        "     for fname in os.listdir(target_dir)\r\n",
        "     if fname.endswith(\".png\") and not fname.startswith(\".\")\r\n",
        "    ]\r\n",
        ")\r\n",
        "print(\"Number of samples:\", len(input_img_path))\r\n",
        "\r\n",
        "for input_path, target_path in zip(input_img_path[:10], target_img_path[:10]):\r\n",
        "    print(input_path, \"|\", target_path)"
      ],
      "execution_count": null,
      "outputs": []
    },
    {
      "cell_type": "code",
      "metadata": {
        "id": "RFiBfcRX-bl1"
      },
      "source": [
        "from IPython.display import Image, display\r\n",
        "from tensorflow.keras.preprocessing.image import load_img\r\n",
        "import PIL\r\n",
        "from PIL import ImageOps\r\n",
        "\r\n",
        "# Display input image #7\r\n",
        "display(Image(filename=input_img_path[9]))\r\n",
        "\r\n",
        "# Display outo-contrast version of corresponding target (per-pixel categories)\r\n",
        "img = PIL.ImageOps.autocontrast(load_img(target_img_path[9]))\r\n",
        "display(img)"
      ],
      "execution_count": null,
      "outputs": []
    },
    {
      "cell_type": "code",
      "metadata": {
        "id": "dOhA6Rr8-bjZ"
      },
      "source": [
        "from tensorflow.keras import layers\r\n",
        "\r\n",
        "def get_model(img_size, num_classes):\r\n",
        "    inputs = keras.Input(shape=img_size+(3,))\r\n",
        "\r\n",
        "    ### [First half of the network : downsampling inputs] ###\r\n",
        "\r\n",
        "    # Entry block\r\n",
        "    x = layers.Conv2D(32, 3, strides=2, padding='same')(inputs)\r\n",
        "    x = layers.BatchNormalization()(x)\r\n",
        "    x = layers.Activation(\"relu\")(x)\r\n",
        "\r\n",
        "    previous_block_activation = x\r\n",
        "\r\n",
        "    for filters in [64, 128, 256]:\r\n",
        "        x = layers.Activation(\"relu\")(x)\r\n",
        "        x = layers.SeparableConv2D(filters, 3, padding=\"same\")(x)\r\n",
        "        x = layers.BatchNormalization()(x)\r\n",
        "\r\n",
        "        x = layers.Activation(\"relu\")(x)\r\n",
        "        x = layers.SeparableConv2D(filters, 3, padding=\"same\")(x)\r\n",
        "        x = layers.BatchNormalization()(x)\r\n",
        "\r\n",
        "        x = layers.MaxPooling2D(3, strides=2, padding=\"same\")(x)\r\n",
        "\r\n",
        "        # residual\r\n",
        "        residual = layers.Conv2D(filters, 1, strides=2, padding=\"same\")(\r\n",
        "            previous_block_activation\r\n",
        "        )\r\n",
        "        x = layers.add([x, residual])\r\n",
        "        previous_block_activation = x\r\n",
        "\r\n",
        "    ### [Second half of the network : upsampling inputs] ###\r\n",
        "\r\n",
        "    for filters in [256, 128, 64, 32]:\r\n",
        "        x = layers.Activation(\"relu\")(x)\r\n",
        "        x = layers.Conv2DTranspose(filters, 3, padding=\"same\")(x)\r\n",
        "        x = layers.BatchNormalization()(x)\r\n",
        "\r\n",
        "        x = layers.Activation(\"relu\")(x)\r\n",
        "        x = layers.Conv2DTranspose(filters, 3, padding=\"same\")(x)\r\n",
        "        x = layers.BatchNormalization()(x)\r\n",
        "\r\n",
        "        x = layers.UpSampling2D(2)(x)\r\n",
        "\r\n",
        "        # residual\r\n",
        "        residual = layers.UpSampling2D(2)(previous_block_activation)\r\n",
        "        residual = layers.Conv2D(filters, 1, padding=\"same\")(residual)\r\n",
        "        x = layers.add([x, residual])\r\n",
        "        previous_block_activation = x\r\n",
        "\r\n",
        "    outputs = layers.Conv2D(num_classes, 3, activation=\"softmax\", padding=\"same\")(x)\r\n",
        "    \r\n",
        "    model = keras.Model(inputs, outputs)\r\n",
        "    return model"
      ],
      "execution_count": null,
      "outputs": []
    },
    {
      "cell_type": "code",
      "metadata": {
        "id": "kdyYWGcfWsvO"
      },
      "source": [
        "from tensorflow import keras\r\n",
        "import numpy as np\r\n",
        "from tensorflow.keras.preprocessing.image import load_img\r\n",
        "\r\n",
        "class OxfordPets(keras.utils.Sequence):\r\n",
        "    \"\"\"Helper to iterate over the data (as Numpy arrays).\"\"\"\r\n",
        "    def __init__(self, batch_size, img_size, input_img_path, target_img_path):\r\n",
        "        self.batch_size = batch_size\r\n",
        "        self.img_size = img_size\r\n",
        "        self.input_img_path = input_img_path\r\n",
        "        self.target_img_path = target_img_path\r\n",
        "\r\n",
        "    def __len__(self):\r\n",
        "        return len(self.target_img_path) // self.batch_size\r\n",
        "\r\n",
        "    def __getitem__(self, idx):\r\n",
        "        \"\"\"Return tuple (input, target) correspond to batch #idx.\"\"\"\r\n",
        "        i = idx * self.batch_size\r\n",
        "        batch_input_img_paths = self.input_img_path[i : i + self.batch_size]\r\n",
        "        batch_target_img_paths = self.target_img_path[i : i + self.batch_size]\r\n",
        "\r\n",
        "        x = np.zeros((self.batch_size,) + self.img_size + (3,), dtype=\"float32\")\r\n",
        "        for j, path in enumerate(batch_input_img_paths):\r\n",
        "            img = load_img(path, target_size=self.img_size)\r\n",
        "            x[j] = img\r\n",
        "        \r\n",
        "        y = np.zeros((self.batch_size,) + self.img_size + (1,), dtype=\"uint8\")\r\n",
        "        for j, path in enumerate(batch_target_img_paths):\r\n",
        "            img = load_img(path, target_size=self.img_size, color_mode=\"grayscale\")\r\n",
        "            y[j] = np.expand_dims(img, 2)\r\n",
        "            y[j] -= 1\r\n",
        "\r\n",
        "        return x, y\r\n",
        "                "
      ],
      "execution_count": null,
      "outputs": []
    },
    {
      "cell_type": "code",
      "metadata": {
        "id": "mwmjuxhO-bX-"
      },
      "source": [
        "import random \r\n",
        "\r\n",
        "# Split out img paths into a training and a validation set\r\n",
        "val_samples = 1000\r\n",
        "random.Random(1337).shuffle(input_img_path)\r\n",
        "random.Random(1337).shuffle(target_img_path)\r\n",
        "train_input_img_paths = input_img_path[:-val_samples]\r\n",
        "train_target_img_paths = target_img_path[:-val_samples]\r\n",
        "val_input_img_paths = input_img_path[-val_samples:]\r\n",
        "val_target_img_paths = target_img_path[-val_samples:]\r\n",
        "\r\n",
        "# Instantiate data Sequences for each split\r\n",
        "train_gen = OxfordPets(\r\n",
        "    batch_size, img_size, train_input_img_paths, train_target_img_paths\r\n",
        ")\r\n",
        "val_gen = OxfordPets(batch_size, img_size, val_input_img_paths, val_target_img_paths)\r\n",
        "\r\n",
        "# Configure the model for training\r\n",
        "model = get_model(img_size, num_classes)\r\n",
        "model.compile(optimizer=\"rmsprop\", loss=\"sparse_categorical_crossentropy\")\r\n",
        "\r\n",
        "callbacks = [\r\n",
        "    keras.callbacks.ModelCheckpoint(\"oxford_segmentation.h5\", save_best_only=True)\r\n",
        "]\r\n",
        "\r\n",
        "epochs = 15\r\n",
        "model.fit(train_gen, epochs=epochs, validation_data=val_gen, callbacks=callbacks)"
      ],
      "execution_count": null,
      "outputs": []
    },
    {
      "cell_type": "code",
      "metadata": {
        "id": "CeNkcgTMk6Oj"
      },
      "source": [
        "val_gen = OxfordPets(batch_size, img_size)"
      ],
      "execution_count": null,
      "outputs": []
    },
    {
      "cell_type": "code",
      "metadata": {
        "id": "NIUY2aDOk50I"
      },
      "source": [
        ""
      ],
      "execution_count": null,
      "outputs": []
    }
  ]
}